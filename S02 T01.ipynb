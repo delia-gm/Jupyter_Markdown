{
 "cells": [
  {
   "cell_type": "markdown",
   "id": "ce4cf42f",
   "metadata": {},
   "source": [
    "# S02 T01: Jupyter Notebook i Markdown \n"
   ]
  },
  {
   "cell_type": "markdown",
   "id": "363ac9e8",
   "metadata": {},
   "source": [
    "![image_python](https://upload.wikimedia.org/wikipedia/commons/0/0a/Python.svg) ![jupyter_image](https://upload.wikimedia.org/wikipedia/commons/3/38/Jupyter_logo.svg)"
   ]
  },
  {
   "cell_type": "markdown",
   "id": "1a85ac95",
   "metadata": {},
   "source": [
    "### Objectius:\n",
    "* Crear variables\n",
    "* Operacions matemàtiques\n",
    "* Transforma amb càsting\n",
    "* Tècniques amb Strings\n",
    "* Booleans\n",
    "* crear títols, llistes, canviar l’estil de la lletra o afegir imatges"
   ]
  },
  {
   "cell_type": "markdown",
   "id": "4156c75c",
   "metadata": {},
   "source": [
    "## Crear Variables i càlculs senzills:"
   ]
  },
  {
   "cell_type": "code",
   "execution_count": 11,
   "id": "080ed304",
   "metadata": {
    "scrolled": true
   },
   "outputs": [
    {
     "name": "stdout",
     "output_type": "stream",
     "text": [
      "78.80000000000001\n"
     ]
    }
   ],
   "source": [
    "degrees_celsius = 26.0\n",
    "degrees_farenheit = 9 / 5 * degrees_celsius + 32 #per passar de graus centígrads a Farenheit.\n",
    "print(degrees_farenheit)"
   ]
  },
  {
   "cell_type": "code",
   "execution_count": 29,
   "id": "8556f312",
   "metadata": {},
   "outputs": [
    {
     "name": "stdout",
     "output_type": "stream",
     "text": [
      "14.5\n"
     ]
    }
   ],
   "source": [
    "x = 10.5\n",
    "y = 4\n",
    "\n",
    "z = x+y\n",
    "print(z)"
   ]
  },
  {
   "cell_type": "code",
   "execution_count": 26,
   "id": "4a4b4e80",
   "metadata": {},
   "outputs": [
    {
     "name": "stdout",
     "output_type": "stream",
     "text": [
      "42.0\n"
     ]
    }
   ],
   "source": [
    "k = x*y\n",
    "print(k)"
   ]
  },
  {
   "cell_type": "code",
   "execution_count": 27,
   "id": "0ae58f73",
   "metadata": {},
   "outputs": [
    {
     "name": "stdout",
     "output_type": "stream",
     "text": [
      "2.625\n"
     ]
    }
   ],
   "source": [
    "w = x/y\n",
    "print(w)"
   ]
  },
  {
   "cell_type": "code",
   "execution_count": 28,
   "id": "0beaa8fd",
   "metadata": {},
   "outputs": [
    {
     "name": "stdout",
     "output_type": "stream",
     "text": [
      "2.5\n"
     ]
    }
   ],
   "source": [
    "a = x%y\n",
    "print(a)"
   ]
  },
  {
   "cell_type": "markdown",
   "id": "adf19ada",
   "metadata": {},
   "source": [
    "## Transformar amb càsting:"
   ]
  },
  {
   "cell_type": "code",
   "execution_count": 35,
   "id": "2265cdd4",
   "metadata": {},
   "outputs": [
    {
     "name": "stdout",
     "output_type": "stream",
     "text": [
      "20\n"
     ]
    }
   ],
   "source": [
    "a = 20.0\n",
    "\n",
    "print (int(a)) #per transformar la variable a, de float a int."
   ]
  },
  {
   "cell_type": "code",
   "execution_count": 32,
   "id": "43505ced",
   "metadata": {},
   "outputs": [
    {
     "name": "stdout",
     "output_type": "stream",
     "text": [
      "324.0\n"
     ]
    }
   ],
   "source": [
    "b = 324\n",
    "print (float(b)) # per transformar la variable b, de int a float."
   ]
  },
  {
   "cell_type": "code",
   "execution_count": 33,
   "id": "c06c6ae1",
   "metadata": {},
   "outputs": [
    {
     "name": "stdout",
     "output_type": "stream",
     "text": [
      "('banana', 'apple', 'peach')\n"
     ]
    }
   ],
   "source": [
    "c = ['banana', 'apple', 'peach']\n",
    "print (tuple(c)) # per transformar la variable c, de list a tuple"
   ]
  },
  {
   "cell_type": "markdown",
   "id": "228fbbfe",
   "metadata": {},
   "source": [
    "## Tècniques amb strings: \n"
   ]
  },
  {
   "cell_type": "code",
   "execution_count": 64,
   "id": "1a931d13",
   "metadata": {},
   "outputs": [
    {
     "name": "stdout",
     "output_type": "stream",
     "text": [
      "Albert Einstein\n",
      "15\n",
      "False\n",
      "True\n"
     ]
    }
   ],
   "source": [
    "a = 'Albert'\n",
    "b = ' Einstein'\n",
    "c = a + b\n",
    "\n",
    "print(c)\n",
    "print(len(c))\n",
    "print(a.startswith('a'))\n",
    "print(a.startswith('A'))"
   ]
  },
  {
   "cell_type": "code",
   "execution_count": 63,
   "id": "3c63fe07",
   "metadata": {},
   "outputs": [
    {
     "data": {
      "text/plain": [
       "'AIAIAI'"
      ]
     },
     "execution_count": 63,
     "metadata": {},
     "output_type": "execute_result"
    }
   ],
   "source": [
    "'AI' * 3"
   ]
  },
  {
   "cell_type": "markdown",
   "id": "4b997b8f",
   "metadata": {},
   "source": [
    "## Booleans:"
   ]
  },
  {
   "cell_type": "code",
   "execution_count": 13,
   "id": "2079017d",
   "metadata": {},
   "outputs": [
    {
     "data": {
      "text/plain": [
       "True"
      ]
     },
     "execution_count": 13,
     "metadata": {},
     "output_type": "execute_result"
    }
   ],
   "source": [
    "cold = True\n",
    "windy = False\n",
    "\n",
    "not(cold and windy)"
   ]
  },
  {
   "cell_type": "code",
   "execution_count": 14,
   "id": "5ef99999",
   "metadata": {},
   "outputs": [
    {
     "data": {
      "text/plain": [
       "False"
      ]
     },
     "execution_count": 14,
     "metadata": {},
     "output_type": "execute_result"
    }
   ],
   "source": [
    "(not cold) and windy"
   ]
  },
  {
   "cell_type": "code",
   "execution_count": 15,
   "id": "174fc267",
   "metadata": {},
   "outputs": [
    {
     "data": {
      "text/plain": [
       "True"
      ]
     },
     "execution_count": 15,
     "metadata": {},
     "output_type": "execute_result"
    }
   ],
   "source": [
    "23.1 >= 23"
   ]
  },
  {
   "cell_type": "code",
   "execution_count": 16,
   "id": "014ded1c",
   "metadata": {},
   "outputs": [
    {
     "data": {
      "text/plain": [
       "False"
      ]
     },
     "execution_count": 16,
     "metadata": {},
     "output_type": "execute_result"
    }
   ],
   "source": [
    "67.3 == 87"
   ]
  },
  {
   "cell_type": "code",
   "execution_count": 18,
   "id": "1bcf097d",
   "metadata": {},
   "outputs": [
    {
     "data": {
      "text/plain": [
       "False"
      ]
     },
     "execution_count": 18,
     "metadata": {},
     "output_type": "execute_result"
    }
   ],
   "source": [
    "67.0 != 67"
   ]
  },
  {
   "cell_type": "code",
   "execution_count": 19,
   "id": "232c1f56",
   "metadata": {},
   "outputs": [
    {
     "data": {
      "text/plain": [
       "True"
      ]
     },
     "execution_count": 19,
     "metadata": {},
     "output_type": "execute_result"
    }
   ],
   "source": [
    "\"Jul\" in \"28 Jul 2021\""
   ]
  }
 ],
 "metadata": {
  "kernelspec": {
   "display_name": "Python 3",
   "language": "python",
   "name": "python3"
  },
  "language_info": {
   "codemirror_mode": {
    "name": "ipython",
    "version": 3
   },
   "file_extension": ".py",
   "mimetype": "text/x-python",
   "name": "python",
   "nbconvert_exporter": "python",
   "pygments_lexer": "ipython3",
   "version": "3.8.8"
  }
 },
 "nbformat": 4,
 "nbformat_minor": 5
}
