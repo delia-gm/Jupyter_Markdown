{
 "cells": [
  {
   "cell_type": "markdown",
   "id": "efa28452",
   "metadata": {},
   "source": [
    "# S03 T01: Estructura de dades "
   ]
  },
  {
   "cell_type": "markdown",
   "id": "f5a0e505",
   "metadata": {},
   "source": [
    "##### Exercici 1: Crea una llista que agrupi els mesos de l’any en trimestres (1T: Gener, Febrer i Març, 2T: Abril, Maig, Juny...), és a dir, una llista amb 4 llistes dins."
   ]
  },
  {
   "cell_type": "code",
   "execution_count": 3,
   "id": "d8ae7359",
   "metadata": {},
   "outputs": [
    {
     "name": "stdout",
     "output_type": "stream",
     "text": [
      "[['Gener', 'Febrer', 'Març'], ['Abril', 'Maig', 'Juny'], ['Juliol', 'Agost', 'Setembre'], ['Octubre', 'Novembre', 'Desembre']]\n"
     ]
    }
   ],
   "source": [
    "llista_1T = ['Gener', 'Febrer', 'Març']\n",
    "llista_2T = ['Abril', 'Maig', 'Juny']\n",
    "llista_3T = ['Juliol', 'Agost', 'Setembre']\n",
    "llista_4T = ['Octubre', 'Novembre', 'Desembre']\n",
    "\n",
    "llista = [llista_1T] + [llista_2T] + [llista_3T] + [llista_4T] \n",
    "\n",
    "print(llista)"
   ]
  },
  {
   "cell_type": "markdown",
   "id": "504e4b0b",
   "metadata": {},
   "source": [
    "##### Exercici 2: Crea un codi que et permeti accedir a:\n",
    "\n",
    "- El segon mes del primer trimestre\n",
    "- Els mesos del primer trimestre\n",
    "- Setembre i octubre"
   ]
  },
  {
   "cell_type": "code",
   "execution_count": 4,
   "id": "98a42bea",
   "metadata": {},
   "outputs": [
    {
     "name": "stdout",
     "output_type": "stream",
     "text": [
      "Febrer\n"
     ]
    }
   ],
   "source": [
    "print(llista[0][1])"
   ]
  },
  {
   "cell_type": "code",
   "execution_count": 5,
   "id": "9a37a123",
   "metadata": {},
   "outputs": [
    {
     "name": "stdout",
     "output_type": "stream",
     "text": [
      "['Gener', 'Febrer', 'Març']\n"
     ]
    }
   ],
   "source": [
    "print(llista[0][:])"
   ]
  },
  {
   "cell_type": "code",
   "execution_count": 7,
   "id": "a8f9f73b",
   "metadata": {},
   "outputs": [
    {
     "name": "stdout",
     "output_type": "stream",
     "text": [
      "Setembre Octubre\n"
     ]
    }
   ],
   "source": [
    "print((llista[2][2]), (llista[3][0]))"
   ]
  },
  {
   "cell_type": "markdown",
   "id": "e9466b4b",
   "metadata": {},
   "source": [
    "##### Exercici 3: Crea una llista amb nombres desordenats i respon a les següents preguntes:"
   ]
  },
  {
   "cell_type": "code",
   "execution_count": 39,
   "id": "797bc5f5",
   "metadata": {},
   "outputs": [],
   "source": [
    "nombres = [3, 6, 10, 2, 7, 11, 8, 50]"
   ]
  },
  {
   "cell_type": "markdown",
   "id": "187781b2",
   "metadata": {},
   "source": [
    "- Quants números hi ha?"
   ]
  },
  {
   "cell_type": "code",
   "execution_count": 12,
   "id": "1e6c2c32",
   "metadata": {},
   "outputs": [
    {
     "data": {
      "text/plain": [
       "8"
      ]
     },
     "execution_count": 12,
     "metadata": {},
     "output_type": "execute_result"
    }
   ],
   "source": [
    "len(nombres)"
   ]
  },
  {
   "cell_type": "markdown",
   "id": "30cd9e10",
   "metadata": {},
   "source": [
    "- Quantes vegades apareix el número 3?"
   ]
  },
  {
   "cell_type": "code",
   "execution_count": 17,
   "id": "ddcdeb7d",
   "metadata": {},
   "outputs": [
    {
     "data": {
      "text/plain": [
       "1"
      ]
     },
     "execution_count": 17,
     "metadata": {},
     "output_type": "execute_result"
    }
   ],
   "source": [
    "nombres.count(3)"
   ]
  },
  {
   "cell_type": "markdown",
   "id": "01f99a8d",
   "metadata": {},
   "source": [
    "- Quantes vegades apareixen els nombres 3 i 4?"
   ]
  },
  {
   "cell_type": "code",
   "execution_count": 28,
   "id": "2853dd77",
   "metadata": {},
   "outputs": [
    {
     "data": {
      "text/plain": [
       "1"
      ]
     },
     "execution_count": 28,
     "metadata": {},
     "output_type": "execute_result"
    }
   ],
   "source": [
    "nombres.count(3)"
   ]
  },
  {
   "cell_type": "code",
   "execution_count": 25,
   "id": "f6e1b71f",
   "metadata": {},
   "outputs": [
    {
     "data": {
      "text/plain": [
       "0"
      ]
     },
     "execution_count": 25,
     "metadata": {},
     "output_type": "execute_result"
    }
   ],
   "source": [
    "nombres.count(4)"
   ]
  },
  {
   "cell_type": "markdown",
   "id": "42e22d67",
   "metadata": {},
   "source": [
    "- Quin és el número més gran?"
   ]
  },
  {
   "cell_type": "code",
   "execution_count": 44,
   "id": "64206170",
   "metadata": {},
   "outputs": [
    {
     "name": "stdout",
     "output_type": "stream",
     "text": [
      "50\n"
     ]
    }
   ],
   "source": [
    "nombres.sort()\n",
    "print(nombres[-1])"
   ]
  },
  {
   "cell_type": "markdown",
   "id": "bf9ed327",
   "metadata": {},
   "source": [
    "- Quins són els 3 números més petits?"
   ]
  },
  {
   "cell_type": "code",
   "execution_count": 46,
   "id": "3ecf4f04",
   "metadata": {},
   "outputs": [
    {
     "name": "stdout",
     "output_type": "stream",
     "text": [
      "[2, 3, 6]\n"
     ]
    }
   ],
   "source": [
    "print(nombres[0:3])"
   ]
  },
  {
   "cell_type": "markdown",
   "id": "27b16242",
   "metadata": {},
   "source": [
    "- Quin és el rang d’aquesta llista?"
   ]
  },
  {
   "cell_type": "code",
   "execution_count": 48,
   "id": "e8d8646c",
   "metadata": {},
   "outputs": [
    {
     "data": {
      "text/plain": [
       "range(0, 8)"
      ]
     },
     "execution_count": 48,
     "metadata": {},
     "output_type": "execute_result"
    }
   ],
   "source": [
    "range(len(nombres))"
   ]
  },
  {
   "cell_type": "markdown",
   "id": "2bc07bee",
   "metadata": {},
   "source": [
    "##### Exercici 4: Crea un diccionari de la següent forma i respon a les preguntes:"
   ]
  },
  {
   "cell_type": "code",
   "execution_count": 49,
   "id": "d54d3afb",
   "metadata": {},
   "outputs": [],
   "source": [
    "compra = { \"Pomes\": {\"Qty\": 5, \"€\": 0.42}, \"Peres\": {\"Qty\": 3, \"€\": 0.66} }"
   ]
  },
  {
   "cell_type": "markdown",
   "id": "4b92529f",
   "metadata": {},
   "source": [
    "- Afegeix alguna fruita més: "
   ]
  },
  {
   "cell_type": "code",
   "execution_count": 52,
   "id": "a8e95c1e",
   "metadata": {},
   "outputs": [
    {
     "name": "stdout",
     "output_type": "stream",
     "text": [
      "{'Pomes': {'Qty': 5, '€': 0.42}, 'Peres': {'Qty': 3, '€': 0.66}, 'Maduixes': {'Qty': 23, '€': 1.5}}\n"
     ]
    }
   ],
   "source": [
    "compra[\"Maduixes\"] = {\"Qty\": 23, \"€\": 1.50}\n",
    "print(compra)"
   ]
  },
  {
   "cell_type": "markdown",
   "id": "9d01c170",
   "metadata": {},
   "source": [
    "- Quant han costat les peres en total?"
   ]
  },
  {
   "cell_type": "code",
   "execution_count": 59,
   "id": "c23bd286",
   "metadata": {},
   "outputs": [
    {
     "data": {
      "text/plain": [
       "0.66"
      ]
     },
     "execution_count": 59,
     "metadata": {},
     "output_type": "execute_result"
    }
   ],
   "source": [
    "compra.get('Peres').get('€')"
   ]
  },
  {
   "cell_type": "markdown",
   "id": "6e797db7",
   "metadata": {},
   "source": [
    "- Quantes fruites hem comprat en total?"
   ]
  },
  {
   "cell_type": "code",
   "execution_count": 58,
   "id": "807423c7",
   "metadata": {},
   "outputs": [
    {
     "data": {
      "text/plain": [
       "3"
      ]
     },
     "execution_count": 58,
     "metadata": {},
     "output_type": "execute_result"
    }
   ],
   "source": [
    "len(compra.keys())"
   ]
  },
  {
   "cell_type": "markdown",
   "id": "507ec6af",
   "metadata": {},
   "source": [
    "- Quina és la fruita més cara?"
   ]
  },
  {
   "cell_type": "code",
   "execution_count": 93,
   "id": "c53fbe91",
   "metadata": {},
   "outputs": [
    {
     "name": "stdout",
     "output_type": "stream",
     "text": [
      "La fruita més cara és Maduixes amb un cost de 1.5€\n"
     ]
    }
   ],
   "source": [
    "fruita = ''\n",
    "preu = 0.0\n",
    "for y in compra.keys():\n",
    "    fruita = y\n",
    "    for x in compra.values():\n",
    "        if x.get('€') > preu:\n",
    "            preu = x.get('€')\n",
    "print('La fruita més cara és '+ (fruita), 'amb un cost de ' + str(preu) + '€')"
   ]
  }
 ],
 "metadata": {
  "kernelspec": {
   "display_name": "Python 3",
   "language": "python",
   "name": "python3"
  },
  "language_info": {
   "codemirror_mode": {
    "name": "ipython",
    "version": 3
   },
   "file_extension": ".py",
   "mimetype": "text/x-python",
   "name": "python",
   "nbconvert_exporter": "python",
   "pygments_lexer": "ipython3",
   "version": "3.8.8"
  },
  "latex_envs": {
   "LaTeX_envs_menu_present": true,
   "autoclose": false,
   "autocomplete": true,
   "bibliofile": "biblio.bib",
   "cite_by": "apalike",
   "current_citInitial": 1,
   "eqLabelWithNumbers": true,
   "eqNumInitial": 1,
   "hotkeys": {
    "equation": "Ctrl-E",
    "itemize": "Ctrl-I"
   },
   "labels_anchors": false,
   "latex_user_defs": false,
   "report_style_numbering": false,
   "user_envs_cfg": false
  }
 },
 "nbformat": 4,
 "nbformat_minor": 5
}
